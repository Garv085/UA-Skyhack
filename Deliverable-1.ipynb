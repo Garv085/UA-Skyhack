{
 "cells": [
  {
   "cell_type": "code",
   "execution_count": 1,
   "id": "a27a8687",
   "metadata": {},
   "outputs": [],
   "source": [
    "import pandas as pd\n",
    "import numpy as np\n",
    "import matplotlib as mlp\n"
   ]
  },
  {
   "cell_type": "code",
   "execution_count": 2,
   "id": "cf8ea1c4",
   "metadata": {},
   "outputs": [],
   "source": [
    "import pandas as pd\n",
    "\n",
    "# Load all datasets\n",
    "df_calls = pd.read_csv('callsf0d4f5a.csv')\n",
    "df_customers = pd.read_csv('customers2afd6ea.csv')\n",
    "df_reasons = pd.read_csv('reason18315ff.csv')\n",
    "df_sentiment = pd.read_csv('sentiment_statisticscc1e57a.csv')\n"
   ]
  },
  {
   "cell_type": "code",
   "execution_count": 3,
   "id": "011b48a0",
   "metadata": {},
   "outputs": [
    {
     "name": "stdout",
     "output_type": "stream",
     "text": [
      "Missing Values in Calls DataFrame:\n",
      " call_id                    0\n",
      "customer_id                0\n",
      "agent_id                   0\n",
      "call_start_datetime        0\n",
      "agent_assigned_datetime    0\n",
      "call_end_datetime          0\n",
      "call_transcript            0\n",
      "dtype: int64\n",
      "\n",
      "Missing Values in Customers DataFrame:\n",
      " customer_id             0\n",
      "customer_name           0\n",
      "elite_level_code    25767\n",
      "dtype: int64\n",
      "\n",
      "Missing Values in Reasons DataFrame:\n",
      " call_id                0\n",
      "primary_call_reason    0\n",
      "dtype: int64\n",
      "\n",
      "Missing Values in Sentiment DataFrame:\n",
      " call_id                      0\n",
      "agent_id                     0\n",
      "agent_tone                 217\n",
      "customer_tone                0\n",
      "average_sentiment          109\n",
      "silence_percent_average      0\n",
      "dtype: int64\n"
     ]
    }
   ],
   "source": [
    "# Check for missing values\n",
    "missing_calls = df_calls.isnull().sum()\n",
    "missing_customers = df_customers.isnull().sum()\n",
    "missing_reasons = df_reasons.isnull().sum()\n",
    "missing_sentiment = df_sentiment.isnull().sum()\n",
    "\n",
    "# Display missing values\n",
    "print(\"Missing Values in Calls DataFrame:\\n\", missing_calls)\n",
    "print(\"\\nMissing Values in Customers DataFrame:\\n\", missing_customers)\n",
    "print(\"\\nMissing Values in Reasons DataFrame:\\n\", missing_reasons)\n",
    "print(\"\\nMissing Values in Sentiment DataFrame:\\n\", missing_sentiment)\n"
   ]
  },
  {
   "cell_type": "code",
   "execution_count": 4,
   "id": "3f76f6b1",
   "metadata": {},
   "outputs": [
    {
     "name": "stdout",
     "output_type": "stream",
     "text": [
      "35.88218911015179\n",
      "0.3021863250243699\n",
      "0.15178944436707978\n"
     ]
    }
   ],
   "source": [
    "# Percentage of missing values in df_customers\n",
    "missing_loyalty = (df_customers['elite_level_code'].isnull().sum() / len(df_customers)) * 100\n",
    "missing_tone = (df_sentiment['agent_tone'].isnull().sum() / len(df_customers)) * 100\n",
    "missing_sentiment = (df_sentiment['average_sentiment'].isnull().sum() / len(df_customers)) * 100\n",
    "print(missing_loyalty)\n",
    "print(missing_tone)\n",
    "print(missing_sentiment)"
   ]
  },
  {
   "cell_type": "code",
   "execution_count": 5,
   "id": "c86df723",
   "metadata": {},
   "outputs": [
    {
     "name": "stdout",
     "output_type": "stream",
     "text": [
      "customer_id         0\n",
      "customer_name       0\n",
      "elite_level_code    0\n",
      "dtype: int64\n"
     ]
    }
   ],
   "source": [
    "# handling the missing values in customers table\n",
    "df_customers.head(10)\n",
    "missing_count = df_customers['elite_level_code'].isnull().sum()\n",
    "df_customers['elite_level_code'] = df_customers['elite_level_code'].fillna(-1)\n",
    "print(df_customers.isnull().sum())"
   ]
  },
  {
   "cell_type": "code",
   "execution_count": 6,
   "id": "8b54488c",
   "metadata": {},
   "outputs": [
    {
     "data": {
      "text/html": [
       "<div>\n",
       "<style scoped>\n",
       "    .dataframe tbody tr th:only-of-type {\n",
       "        vertical-align: middle;\n",
       "    }\n",
       "\n",
       "    .dataframe tbody tr th {\n",
       "        vertical-align: top;\n",
       "    }\n",
       "\n",
       "    .dataframe thead th {\n",
       "        text-align: right;\n",
       "    }\n",
       "</style>\n",
       "<table border=\"1\" class=\"dataframe\">\n",
       "  <thead>\n",
       "    <tr style=\"text-align: right;\">\n",
       "      <th></th>\n",
       "      <th>call_id</th>\n",
       "      <th>agent_id</th>\n",
       "      <th>average_sentiment</th>\n",
       "      <th>silence_percent_average</th>\n",
       "    </tr>\n",
       "  </thead>\n",
       "  <tbody>\n",
       "    <tr>\n",
       "      <th>count</th>\n",
       "      <td>7.159300e+04</td>\n",
       "      <td>71593.000000</td>\n",
       "      <td>71593.000000</td>\n",
       "      <td>71593.000000</td>\n",
       "    </tr>\n",
       "    <tr>\n",
       "      <th>mean</th>\n",
       "      <td>4.993478e+09</td>\n",
       "      <td>564706.158814</td>\n",
       "      <td>-0.032592</td>\n",
       "      <td>0.285689</td>\n",
       "    </tr>\n",
       "    <tr>\n",
       "      <th>std</th>\n",
       "      <td>2.889637e+09</td>\n",
       "      <td>257520.519491</td>\n",
       "      <td>0.141484</td>\n",
       "      <td>0.191922</td>\n",
       "    </tr>\n",
       "    <tr>\n",
       "      <th>min</th>\n",
       "      <td>1.316420e+05</td>\n",
       "      <td>102574.000000</td>\n",
       "      <td>-0.940000</td>\n",
       "      <td>0.000000</td>\n",
       "    </tr>\n",
       "    <tr>\n",
       "      <th>25%</th>\n",
       "      <td>2.478796e+09</td>\n",
       "      <td>347606.000000</td>\n",
       "      <td>-0.110000</td>\n",
       "      <td>0.130000</td>\n",
       "    </tr>\n",
       "    <tr>\n",
       "      <th>50%</th>\n",
       "      <td>4.989537e+09</td>\n",
       "      <td>591778.000000</td>\n",
       "      <td>-0.020000</td>\n",
       "      <td>0.260000</td>\n",
       "    </tr>\n",
       "    <tr>\n",
       "      <th>75%</th>\n",
       "      <td>7.492895e+09</td>\n",
       "      <td>786323.000000</td>\n",
       "      <td>0.050000</td>\n",
       "      <td>0.410000</td>\n",
       "    </tr>\n",
       "    <tr>\n",
       "      <th>max</th>\n",
       "      <td>9.999806e+09</td>\n",
       "      <td>993862.000000</td>\n",
       "      <td>2.670000</td>\n",
       "      <td>0.980000</td>\n",
       "    </tr>\n",
       "  </tbody>\n",
       "</table>\n",
       "</div>"
      ],
      "text/plain": [
       "            call_id       agent_id  average_sentiment  silence_percent_average\n",
       "count  7.159300e+04   71593.000000       71593.000000             71593.000000\n",
       "mean   4.993478e+09  564706.158814          -0.032592                 0.285689\n",
       "std    2.889637e+09  257520.519491           0.141484                 0.191922\n",
       "min    1.316420e+05  102574.000000          -0.940000                 0.000000\n",
       "25%    2.478796e+09  347606.000000          -0.110000                 0.130000\n",
       "50%    4.989537e+09  591778.000000          -0.020000                 0.260000\n",
       "75%    7.492895e+09  786323.000000           0.050000                 0.410000\n",
       "max    9.999806e+09  993862.000000           2.670000                 0.980000"
      ]
     },
     "execution_count": 6,
     "metadata": {},
     "output_type": "execute_result"
    }
   ],
   "source": [
    "# handling the missing values in sentiments table\n",
    "df_sentiment = df_sentiment.dropna(subset=['agent_tone', 'average_sentiment'])\n",
    "df_sentiment.describe()"
   ]
  },
  {
   "cell_type": "code",
   "execution_count": 7,
   "id": "2de12cdd",
   "metadata": {},
   "outputs": [
    {
     "name": "stdout",
     "output_type": "stream",
     "text": [
      "0 0 0 0\n"
     ]
    }
   ],
   "source": [
    "#checking for duplicates\n",
    "cls = df_calls.duplicated().sum()\n",
    "cus = df_customers.duplicated().sum()\n",
    "rea = df_reasons.duplicated().sum()\n",
    "sent = df_sentiment.duplicated().sum()\n",
    "print(cls, cus, rea, sent)"
   ]
  },
  {
   "cell_type": "code",
   "execution_count": 8,
   "id": "6d0fb63f",
   "metadata": {},
   "outputs": [],
   "source": [
    "# Convert datetime columns in calls DataFrame\n",
    "df_calls['call_start_datetime'] = pd.to_datetime(df_calls['call_start_datetime'])\n",
    "df_calls['agent_assigned_datetime'] = pd.to_datetime(df_calls['agent_assigned_datetime'])\n",
    "df_calls['call_end_datetime'] = pd.to_datetime(df_calls['call_end_datetime'])"
   ]
  },
  {
   "cell_type": "code",
   "execution_count": 9,
   "id": "703ed0d4",
   "metadata": {},
   "outputs": [
    {
     "name": "stderr",
     "output_type": "stream",
     "text": [
      "/var/folders/n9/xrhw7t1n1xs1bwwzqvckjkzh0000gn/T/ipykernel_9053/2850760961.py:2: FutureWarning: The default value of regex will change from True to False in a future version.\n",
      "  df_calls['call_transcript'] = df_calls['call_transcript'].str.replace(r'\\n', ' ').str.strip()\n"
     ]
    }
   ],
   "source": [
    "# Clean call transcripts\n",
    "df_calls['call_transcript'] = df_calls['call_transcript'].str.replace(r'\\n', ' ').str.strip()\n"
   ]
  },
  {
   "cell_type": "code",
   "execution_count": 10,
   "id": "57168f37",
   "metadata": {},
   "outputs": [
    {
     "data": {
      "text/plain": [
       "\"Agent: Thank you for calling United Airlines customer service, my name is Sarah how may I help you?  Customer: Hi, yeah I'm calling because my flight from Chicago to New York was delayed by over 3 hours! This is ridiculous, I'm missing important meetings because of this.   Agent: I'm so sorry to hear about the delay, that's definitely frustrating. Umm, let me pull up your reservation and take a look at what happened. *typing sounds* Okay, it looks like there was severe weather in Chicago that caused multiple flight cancellations and delays across the board for all the airlines. Ahh shoot, yeah your original flight was scheduled to depart at 2pm but didn't actually take off until after 5pm.  Customer: Ugh this is such poor planning on United's part, you should have rerouted passengers or put us on other flights that weren't delayed. Now I've wasted a whole day.   Agent: I understand your frustration sir, delays are never fun. Let me see what options I have available to help make this up to you. Hmm, it looks like I can get you booked on a flight leaving at 3pm tomorrow that will have you landing in New York by 5pm. I'll waive the change fee and provide you with a travel voucher for $200 to help cover expenses from the missed meetings today. Does that work for your schedule?  Customer: I guess that's better than nothing. But you really need to get your act together, this is unacceptable customer service from United. Your delays are costing people time and money.   Agent: You're right, we want to do better for our customers. I apologize again for the delay and inconvenience. Thank you for flying with us and I hope the rescheduled flight and travel credit help make up for some of the trouble today. Please feel free to reach back out if you have any other issues. Thanks for your patience and for understanding - I appreciate you taking the time to work through this with me.  Customer: Alright fine. This better not happen again next time I fly United.   Agent: I'll be sure to note your record so we can try and avoid any repeats going forward. Take care and have a good rest of your day.  Customer: Yeah, you too. *hangs up*  Agent: Thank you for your call, next caller please. *pretends to answer another call* Hi there, thank you for calling United how can I help?\""
      ]
     },
     "execution_count": 10,
     "metadata": {},
     "output_type": "execute_result"
    }
   ],
   "source": [
    "df_calls['call_transcript'][0]"
   ]
  },
  {
   "cell_type": "code",
   "execution_count": 11,
   "id": "2a66351e",
   "metadata": {},
   "outputs": [
    {
     "name": "stdout",
     "output_type": "stream",
     "text": [
      "\n",
      "Data Types in Calls DataFrame:\n",
      " call_id                             int64\n",
      "customer_id                         int64\n",
      "agent_id                            int64\n",
      "call_start_datetime        datetime64[ns]\n",
      "agent_assigned_datetime    datetime64[ns]\n",
      "call_end_datetime          datetime64[ns]\n",
      "call_transcript                    object\n",
      "dtype: object\n",
      "\n",
      "Data Types in Customers DataFrame:\n",
      " customer_id           int64\n",
      "customer_name        object\n",
      "elite_level_code    float64\n",
      "dtype: object\n",
      "\n",
      "Data Types in Reasons DataFrame:\n",
      " call_id                 int64\n",
      "primary_call_reason    object\n",
      "dtype: object\n",
      "\n",
      "Data Types in Sentiment DataFrame:\n",
      " call_id                      int64\n",
      "agent_id                     int64\n",
      "agent_tone                  object\n",
      "customer_tone               object\n",
      "average_sentiment          float64\n",
      "silence_percent_average    float64\n",
      "dtype: object\n"
     ]
    }
   ],
   "source": [
    "# Check and correct data types\n",
    "print(\"\\nData Types in Calls DataFrame:\\n\", df_calls.dtypes)\n",
    "print(\"\\nData Types in Customers DataFrame:\\n\", df_customers.dtypes)\n",
    "print(\"\\nData Types in Reasons DataFrame:\\n\", df_reasons.dtypes)\n",
    "print(\"\\nData Types in Sentiment DataFrame:\\n\", df_sentiment.dtypes)"
   ]
  },
  {
   "cell_type": "code",
   "execution_count": 12,
   "id": "0989e3f6",
   "metadata": {},
   "outputs": [],
   "source": [
    "#datatype change\n",
    "df_customers['elite_level_code'] = df_customers['elite_level_code'].astype(int)\n"
   ]
  },
  {
   "cell_type": "code",
   "execution_count": 13,
   "id": "608e576f",
   "metadata": {},
   "outputs": [
    {
     "data": {
      "text/html": [
       "<div>\n",
       "<style scoped>\n",
       "    .dataframe tbody tr th:only-of-type {\n",
       "        vertical-align: middle;\n",
       "    }\n",
       "\n",
       "    .dataframe tbody tr th {\n",
       "        vertical-align: top;\n",
       "    }\n",
       "\n",
       "    .dataframe thead th {\n",
       "        text-align: right;\n",
       "    }\n",
       "</style>\n",
       "<table border=\"1\" class=\"dataframe\">\n",
       "  <thead>\n",
       "    <tr style=\"text-align: right;\">\n",
       "      <th></th>\n",
       "      <th>call_id</th>\n",
       "      <th>agent_id</th>\n",
       "      <th>average_sentiment</th>\n",
       "      <th>silence_percent_average</th>\n",
       "    </tr>\n",
       "  </thead>\n",
       "  <tbody>\n",
       "    <tr>\n",
       "      <th>count</th>\n",
       "      <td>7.159300e+04</td>\n",
       "      <td>71593.000000</td>\n",
       "      <td>71593.000000</td>\n",
       "      <td>71593.000000</td>\n",
       "    </tr>\n",
       "    <tr>\n",
       "      <th>mean</th>\n",
       "      <td>4.993478e+09</td>\n",
       "      <td>564706.158814</td>\n",
       "      <td>-0.032592</td>\n",
       "      <td>0.285689</td>\n",
       "    </tr>\n",
       "    <tr>\n",
       "      <th>std</th>\n",
       "      <td>2.889637e+09</td>\n",
       "      <td>257520.519491</td>\n",
       "      <td>0.141484</td>\n",
       "      <td>0.191922</td>\n",
       "    </tr>\n",
       "    <tr>\n",
       "      <th>min</th>\n",
       "      <td>1.316420e+05</td>\n",
       "      <td>102574.000000</td>\n",
       "      <td>-0.940000</td>\n",
       "      <td>0.000000</td>\n",
       "    </tr>\n",
       "    <tr>\n",
       "      <th>25%</th>\n",
       "      <td>2.478796e+09</td>\n",
       "      <td>347606.000000</td>\n",
       "      <td>-0.110000</td>\n",
       "      <td>0.130000</td>\n",
       "    </tr>\n",
       "    <tr>\n",
       "      <th>50%</th>\n",
       "      <td>4.989537e+09</td>\n",
       "      <td>591778.000000</td>\n",
       "      <td>-0.020000</td>\n",
       "      <td>0.260000</td>\n",
       "    </tr>\n",
       "    <tr>\n",
       "      <th>75%</th>\n",
       "      <td>7.492895e+09</td>\n",
       "      <td>786323.000000</td>\n",
       "      <td>0.050000</td>\n",
       "      <td>0.410000</td>\n",
       "    </tr>\n",
       "    <tr>\n",
       "      <th>max</th>\n",
       "      <td>9.999806e+09</td>\n",
       "      <td>993862.000000</td>\n",
       "      <td>2.670000</td>\n",
       "      <td>0.980000</td>\n",
       "    </tr>\n",
       "  </tbody>\n",
       "</table>\n",
       "</div>"
      ],
      "text/plain": [
       "            call_id       agent_id  average_sentiment  silence_percent_average\n",
       "count  7.159300e+04   71593.000000       71593.000000             71593.000000\n",
       "mean   4.993478e+09  564706.158814          -0.032592                 0.285689\n",
       "std    2.889637e+09  257520.519491           0.141484                 0.191922\n",
       "min    1.316420e+05  102574.000000          -0.940000                 0.000000\n",
       "25%    2.478796e+09  347606.000000          -0.110000                 0.130000\n",
       "50%    4.989537e+09  591778.000000          -0.020000                 0.260000\n",
       "75%    7.492895e+09  786323.000000           0.050000                 0.410000\n",
       "max    9.999806e+09  993862.000000           2.670000                 0.980000"
      ]
     },
     "execution_count": 13,
     "metadata": {},
     "output_type": "execute_result"
    }
   ],
   "source": [
    "df_sentiment.describe()"
   ]
  },
  {
   "cell_type": "code",
   "execution_count": 14,
   "id": "2c2ede59",
   "metadata": {},
   "outputs": [
    {
     "data": {
      "text/html": [
       "<div>\n",
       "<style scoped>\n",
       "    .dataframe tbody tr th:only-of-type {\n",
       "        vertical-align: middle;\n",
       "    }\n",
       "\n",
       "    .dataframe tbody tr th {\n",
       "        vertical-align: top;\n",
       "    }\n",
       "\n",
       "    .dataframe thead th {\n",
       "        text-align: right;\n",
       "    }\n",
       "</style>\n",
       "<table border=\"1\" class=\"dataframe\">\n",
       "  <thead>\n",
       "    <tr style=\"text-align: right;\">\n",
       "      <th></th>\n",
       "      <th>call_id</th>\n",
       "      <th>customer_id</th>\n",
       "      <th>agent_id</th>\n",
       "      <th>AHT</th>\n",
       "    </tr>\n",
       "  </thead>\n",
       "  <tbody>\n",
       "    <tr>\n",
       "      <th>count</th>\n",
       "      <td>7.181000e+04</td>\n",
       "      <td>7.181000e+04</td>\n",
       "      <td>71810.000000</td>\n",
       "      <td>71810.000000</td>\n",
       "    </tr>\n",
       "    <tr>\n",
       "      <th>mean</th>\n",
       "      <td>4.993574e+09</td>\n",
       "      <td>5.004334e+09</td>\n",
       "      <td>564768.278039</td>\n",
       "      <td>18.901936</td>\n",
       "    </tr>\n",
       "    <tr>\n",
       "      <th>std</th>\n",
       "      <td>2.889673e+09</td>\n",
       "      <td>2.884255e+09</td>\n",
       "      <td>257532.362167</td>\n",
       "      <td>13.079690</td>\n",
       "    </tr>\n",
       "    <tr>\n",
       "      <th>min</th>\n",
       "      <td>1.316420e+05</td>\n",
       "      <td>1.197800e+04</td>\n",
       "      <td>102574.000000</td>\n",
       "      <td>3.000000</td>\n",
       "    </tr>\n",
       "    <tr>\n",
       "      <th>25%</th>\n",
       "      <td>2.480013e+09</td>\n",
       "      <td>2.514618e+09</td>\n",
       "      <td>347606.000000</td>\n",
       "      <td>11.000000</td>\n",
       "    </tr>\n",
       "    <tr>\n",
       "      <th>50%</th>\n",
       "      <td>4.989448e+09</td>\n",
       "      <td>4.999664e+09</td>\n",
       "      <td>591778.000000</td>\n",
       "      <td>15.000000</td>\n",
       "    </tr>\n",
       "    <tr>\n",
       "      <th>75%</th>\n",
       "      <td>7.493629e+09</td>\n",
       "      <td>7.509126e+09</td>\n",
       "      <td>786323.000000</td>\n",
       "      <td>22.000000</td>\n",
       "    </tr>\n",
       "    <tr>\n",
       "      <th>max</th>\n",
       "      <td>9.999806e+09</td>\n",
       "      <td>9.999935e+09</td>\n",
       "      <td>993862.000000</td>\n",
       "      <td>129.000000</td>\n",
       "    </tr>\n",
       "  </tbody>\n",
       "</table>\n",
       "</div>"
      ],
      "text/plain": [
       "            call_id   customer_id       agent_id           AHT\n",
       "count  7.181000e+04  7.181000e+04   71810.000000  71810.000000\n",
       "mean   4.993574e+09  5.004334e+09  564768.278039     18.901936\n",
       "std    2.889673e+09  2.884255e+09  257532.362167     13.079690\n",
       "min    1.316420e+05  1.197800e+04  102574.000000      3.000000\n",
       "25%    2.480013e+09  2.514618e+09  347606.000000     11.000000\n",
       "50%    4.989448e+09  4.999664e+09  591778.000000     15.000000\n",
       "75%    7.493629e+09  7.509126e+09  786323.000000     22.000000\n",
       "max    9.999806e+09  9.999935e+09  993862.000000    129.000000"
      ]
     },
     "execution_count": 14,
     "metadata": {},
     "output_type": "execute_result"
    }
   ],
   "source": [
    "# Calculating call duration in df_calls\n",
    "df_calls['AHT'] = (df_calls['call_end_datetime'] - df_calls['call_start_datetime']).dt.total_seconds() / 60  # AHT in minutes\n",
    "df_calls.describe()"
   ]
  },
  {
   "cell_type": "code",
   "execution_count": 15,
   "id": "af1d766d",
   "metadata": {},
   "outputs": [
    {
     "name": "stdout",
     "output_type": "stream",
     "text": [
      "Top performing:\n",
      "     agent_id        AHT\n",
      "0      102574  68.000000\n",
      "160    506130  55.000000\n",
      "16     140146  49.666667\n",
      "60     255256  48.333333\n",
      "187    558705  40.000000\n",
      "Least performing:\n",
      "     agent_id        AHT\n",
      "210    616988   9.000000\n",
      "48     229129  12.666667\n",
      "184    547592  13.000000\n",
      "23     161354  13.000000\n",
      "238    676262  14.000000\n"
     ]
    }
   ],
   "source": [
    "# Calculate AHT agent\n",
    "aht_by_agent = df_calls.groupby('agent_id')['AHT'].mean().reset_index()\n",
    "\n",
    "# Top performing and Least Performing agent\n",
    "Top_performing = aht_by_agent.sort_values(by='AHT', ascending=False).head()\n",
    "Least_performing = aht_by_agent.sort_values(by='AHT', ascending=True).head()\n",
    "print(\"Top performing:\")\n",
    "print(Top_performing)\n",
    "print(\"Least performing:\")\n",
    "print(Least_performing)"
   ]
  },
  {
   "cell_type": "code",
   "execution_count": 16,
   "id": "5d983a2b",
   "metadata": {},
   "outputs": [
    {
     "data": {
      "text/html": [
       "<div>\n",
       "<style scoped>\n",
       "    .dataframe tbody tr th:only-of-type {\n",
       "        vertical-align: middle;\n",
       "    }\n",
       "\n",
       "    .dataframe tbody tr th {\n",
       "        vertical-align: top;\n",
       "    }\n",
       "\n",
       "    .dataframe thead th {\n",
       "        text-align: right;\n",
       "    }\n",
       "</style>\n",
       "<table border=\"1\" class=\"dataframe\">\n",
       "  <thead>\n",
       "    <tr style=\"text-align: right;\">\n",
       "      <th></th>\n",
       "      <th>call_id</th>\n",
       "      <th>customer_id</th>\n",
       "      <th>agent_id</th>\n",
       "      <th>call_start_datetime</th>\n",
       "      <th>agent_assigned_datetime</th>\n",
       "      <th>call_end_datetime</th>\n",
       "      <th>call_transcript</th>\n",
       "      <th>AHT</th>\n",
       "      <th>primary_call_reason</th>\n",
       "    </tr>\n",
       "  </thead>\n",
       "  <tbody>\n",
       "    <tr>\n",
       "      <th>0</th>\n",
       "      <td>4667960400</td>\n",
       "      <td>2033123310</td>\n",
       "      <td>963118</td>\n",
       "      <td>2024-07-31 23:56:00</td>\n",
       "      <td>2024-08-01 00:03:00</td>\n",
       "      <td>2024-08-01 00:34:00</td>\n",
       "      <td>Agent: Thank you for calling United Airlines c...</td>\n",
       "      <td>38.0</td>\n",
       "      <td>Voluntary  Cancel</td>\n",
       "    </tr>\n",
       "    <tr>\n",
       "      <th>1</th>\n",
       "      <td>1122072124</td>\n",
       "      <td>8186702651</td>\n",
       "      <td>519057</td>\n",
       "      <td>2024-08-01 00:03:00</td>\n",
       "      <td>2024-08-01 00:06:00</td>\n",
       "      <td>2024-08-01 00:18:00</td>\n",
       "      <td>Agent: Thank you for calling United Airlines, ...</td>\n",
       "      <td>15.0</td>\n",
       "      <td>Booking</td>\n",
       "    </tr>\n",
       "    <tr>\n",
       "      <th>2</th>\n",
       "      <td>6834291559</td>\n",
       "      <td>2416856629</td>\n",
       "      <td>158319</td>\n",
       "      <td>2024-07-31 23:59:00</td>\n",
       "      <td>2024-08-01 00:07:00</td>\n",
       "      <td>2024-08-01 00:26:00</td>\n",
       "      <td>Agent: Thank you for calling United Airlines c...</td>\n",
       "      <td>27.0</td>\n",
       "      <td>IRROPS</td>\n",
       "    </tr>\n",
       "    <tr>\n",
       "      <th>3</th>\n",
       "      <td>2266439882</td>\n",
       "      <td>1154544516</td>\n",
       "      <td>488324</td>\n",
       "      <td>2024-08-01 00:05:00</td>\n",
       "      <td>2024-08-01 00:10:00</td>\n",
       "      <td>2024-08-01 00:17:00</td>\n",
       "      <td>Agent: Thank you for calling United Airlines c...</td>\n",
       "      <td>12.0</td>\n",
       "      <td>Upgrade</td>\n",
       "    </tr>\n",
       "    <tr>\n",
       "      <th>4</th>\n",
       "      <td>1211603231</td>\n",
       "      <td>5214456437</td>\n",
       "      <td>721730</td>\n",
       "      <td>2024-08-01 00:04:00</td>\n",
       "      <td>2024-08-01 00:14:00</td>\n",
       "      <td>2024-08-01 00:23:00</td>\n",
       "      <td>Agent: Thank you for calling United Airlines c...</td>\n",
       "      <td>19.0</td>\n",
       "      <td>Seating</td>\n",
       "    </tr>\n",
       "    <tr>\n",
       "      <th>...</th>\n",
       "      <td>...</td>\n",
       "      <td>...</td>\n",
       "      <td>...</td>\n",
       "      <td>...</td>\n",
       "      <td>...</td>\n",
       "      <td>...</td>\n",
       "      <td>...</td>\n",
       "      <td>...</td>\n",
       "      <td>...</td>\n",
       "    </tr>\n",
       "    <tr>\n",
       "      <th>71805</th>\n",
       "      <td>1563273072</td>\n",
       "      <td>8022667294</td>\n",
       "      <td>413148</td>\n",
       "      <td>2024-08-31 23:48:00</td>\n",
       "      <td>2024-08-31 23:57:00</td>\n",
       "      <td>2024-09-01 00:25:00</td>\n",
       "      <td>Agent: Thank you for calling United Airlines c...</td>\n",
       "      <td>37.0</td>\n",
       "      <td>Post Flight</td>\n",
       "    </tr>\n",
       "    <tr>\n",
       "      <th>71806</th>\n",
       "      <td>8865997781</td>\n",
       "      <td>4474867021</td>\n",
       "      <td>980156</td>\n",
       "      <td>2024-08-31 23:55:00</td>\n",
       "      <td>2024-08-31 23:58:00</td>\n",
       "      <td>2024-09-01 00:06:00</td>\n",
       "      <td>Agent: Thank you for calling United Airlines c...</td>\n",
       "      <td>11.0</td>\n",
       "      <td>Upgrade</td>\n",
       "    </tr>\n",
       "    <tr>\n",
       "      <th>71807</th>\n",
       "      <td>8019240181</td>\n",
       "      <td>9762042472</td>\n",
       "      <td>616988</td>\n",
       "      <td>2024-08-31 23:52:00</td>\n",
       "      <td>2024-08-31 23:58:00</td>\n",
       "      <td>2024-09-01 00:04:00</td>\n",
       "      <td>Agent: Thank you for calling United Airlines c...</td>\n",
       "      <td>12.0</td>\n",
       "      <td>Upgrade</td>\n",
       "    </tr>\n",
       "    <tr>\n",
       "      <th>71808</th>\n",
       "      <td>8332067080</td>\n",
       "      <td>8095620266</td>\n",
       "      <td>161354</td>\n",
       "      <td>2024-08-31 23:53:00</td>\n",
       "      <td>2024-08-31 23:59:00</td>\n",
       "      <td>2024-09-01 00:03:00</td>\n",
       "      <td>Agent: Thank you for calling United Airlines c...</td>\n",
       "      <td>10.0</td>\n",
       "      <td>NaN</td>\n",
       "    </tr>\n",
       "    <tr>\n",
       "      <th>71809</th>\n",
       "      <td>8210720833</td>\n",
       "      <td>8014388758</td>\n",
       "      <td>547592</td>\n",
       "      <td>2024-08-31 23:49:00</td>\n",
       "      <td>2024-08-31 23:59:00</td>\n",
       "      <td>2024-09-01 00:02:00</td>\n",
       "      <td>Agent: Thank you for calling United Airlines, ...</td>\n",
       "      <td>13.0</td>\n",
       "      <td>Digital  Support</td>\n",
       "    </tr>\n",
       "  </tbody>\n",
       "</table>\n",
       "<p>71810 rows × 9 columns</p>\n",
       "</div>"
      ],
      "text/plain": [
       "          call_id  customer_id  agent_id call_start_datetime  \\\n",
       "0      4667960400   2033123310    963118 2024-07-31 23:56:00   \n",
       "1      1122072124   8186702651    519057 2024-08-01 00:03:00   \n",
       "2      6834291559   2416856629    158319 2024-07-31 23:59:00   \n",
       "3      2266439882   1154544516    488324 2024-08-01 00:05:00   \n",
       "4      1211603231   5214456437    721730 2024-08-01 00:04:00   \n",
       "...           ...          ...       ...                 ...   \n",
       "71805  1563273072   8022667294    413148 2024-08-31 23:48:00   \n",
       "71806  8865997781   4474867021    980156 2024-08-31 23:55:00   \n",
       "71807  8019240181   9762042472    616988 2024-08-31 23:52:00   \n",
       "71808  8332067080   8095620266    161354 2024-08-31 23:53:00   \n",
       "71809  8210720833   8014388758    547592 2024-08-31 23:49:00   \n",
       "\n",
       "      agent_assigned_datetime   call_end_datetime  \\\n",
       "0         2024-08-01 00:03:00 2024-08-01 00:34:00   \n",
       "1         2024-08-01 00:06:00 2024-08-01 00:18:00   \n",
       "2         2024-08-01 00:07:00 2024-08-01 00:26:00   \n",
       "3         2024-08-01 00:10:00 2024-08-01 00:17:00   \n",
       "4         2024-08-01 00:14:00 2024-08-01 00:23:00   \n",
       "...                       ...                 ...   \n",
       "71805     2024-08-31 23:57:00 2024-09-01 00:25:00   \n",
       "71806     2024-08-31 23:58:00 2024-09-01 00:06:00   \n",
       "71807     2024-08-31 23:58:00 2024-09-01 00:04:00   \n",
       "71808     2024-08-31 23:59:00 2024-09-01 00:03:00   \n",
       "71809     2024-08-31 23:59:00 2024-09-01 00:02:00   \n",
       "\n",
       "                                         call_transcript   AHT  \\\n",
       "0      Agent: Thank you for calling United Airlines c...  38.0   \n",
       "1      Agent: Thank you for calling United Airlines, ...  15.0   \n",
       "2      Agent: Thank you for calling United Airlines c...  27.0   \n",
       "3      Agent: Thank you for calling United Airlines c...  12.0   \n",
       "4      Agent: Thank you for calling United Airlines c...  19.0   \n",
       "...                                                  ...   ...   \n",
       "71805  Agent: Thank you for calling United Airlines c...  37.0   \n",
       "71806  Agent: Thank you for calling United Airlines c...  11.0   \n",
       "71807  Agent: Thank you for calling United Airlines c...  12.0   \n",
       "71808  Agent: Thank you for calling United Airlines c...  10.0   \n",
       "71809  Agent: Thank you for calling United Airlines, ...  13.0   \n",
       "\n",
       "      primary_call_reason  \n",
       "0       Voluntary  Cancel  \n",
       "1                 Booking  \n",
       "2                  IRROPS  \n",
       "3                 Upgrade  \n",
       "4                 Seating  \n",
       "...                   ...  \n",
       "71805         Post Flight  \n",
       "71806             Upgrade  \n",
       "71807             Upgrade  \n",
       "71808                 NaN  \n",
       "71809    Digital  Support  \n",
       "\n",
       "[71810 rows x 9 columns]"
      ]
     },
     "execution_count": 16,
     "metadata": {},
     "output_type": "execute_result"
    }
   ],
   "source": [
    "import matplotlib.pyplot as plt\n",
    "import seaborn as sns\n",
    "\n",
    "# Merge df_calls with df_reasons to get primary_call_reason\n",
    "df_calls = df_calls.merge(df_reasons, on='call_id', how='left')\n",
    "\n",
    "df_calls"
   ]
  },
  {
   "cell_type": "code",
   "execution_count": 17,
   "id": "f379c0c1",
   "metadata": {},
   "outputs": [
    {
     "name": "stdout",
     "output_type": "stream",
     "text": [
      "['voluntary cancel' 'booking' 'irrops' 'upgrade' 'seating' 'mileage plus'\n",
      " 'checkout' nan 'voluntary change' 'post flight' 'check in' 'other topics'\n",
      " 'communications' 'schedule change' 'products & services'\n",
      " 'digital support' 'disability' 'unaccompanied minor' 'baggage'\n",
      " 'traveler updates' 'etc' 'products and services']\n"
     ]
    }
   ],
   "source": [
    "# Clean the 'primary_call_reason' column\n",
    "import re\n",
    "\n",
    "df_calls['primary_call_reason'] = df_calls['primary_call_reason'].str.strip()  # Remove leading/trailing spaces\n",
    "df_calls['primary_call_reason'] = df_calls['primary_call_reason'].str.lower()  # Convert to lowercase\n",
    "\n",
    "\n",
    "df_calls['primary_call_reason'] = df_calls['primary_call_reason'].str.replace('-', ' ')  # Replace hyphens with spaces\n",
    "\n",
    "\n",
    "df_calls['primary_call_reason'] = df_calls['primary_call_reason'].str.replace(r'\\s+', ' ', regex=True)\n",
    "\n",
    "\n",
    "print(df_calls['primary_call_reason'].unique())\n"
   ]
  },
  {
   "cell_type": "code",
   "execution_count": 18,
   "id": "d4b37bce",
   "metadata": {},
   "outputs": [
    {
     "name": "stdout",
     "output_type": "stream",
     "text": [
      "['voluntary cancel' 'booking' 'irrops' 'upgrade' 'seating' 'mileage plus'\n",
      " 'checkout' nan 'voluntary change' 'post flight' 'check in' 'other topics'\n",
      " 'communications' 'schedule change' 'products and services'\n",
      " 'digital support' 'disability' 'unaccompanied minor' 'baggage'\n",
      " 'traveler updates' 'etc']\n"
     ]
    }
   ],
   "source": [
    "# Manual replacement for known duplicates\n",
    "df_calls['primary_call_reason'] = df_calls['primary_call_reason'].replace({\n",
    "    'products & services': 'products and services',\n",
    "})\n",
    "\n",
    "print(df_calls['primary_call_reason'].unique())\n"
   ]
  },
  {
   "cell_type": "code",
   "execution_count": 19,
   "id": "8ab7f968",
   "metadata": {},
   "outputs": [
    {
     "data": {
      "image/png": "[encoded data removed]",
      "text/plain": [
       "<Figure size 864x432 with 1 Axes>"
      ]
     },
     "metadata": {
      "needs_background": "light"
     },
     "output_type": "display_data"
    }
   ],
   "source": [
    "# Calculate AHT by primary call reason\n",
    "aht_by_reason = df_calls.groupby('primary_call_reason')['AHT'].mean().reset_index()\n",
    "\n",
    "\n",
    "aht_by_reason = aht_by_reason.sort_values(by='AHT', ascending=False)\n",
    "\n",
    "\n",
    "plt.figure(figsize=(12, 6))\n",
    "sns.barplot(x='AHT', y='primary_call_reason', data=aht_by_reason.head(20))  # Display top 20 reasons\n",
    "plt.title('Average Handle Time (AHT) by Call Reason')\n",
    "plt.xlabel('Average Handle Time (minutes)')\n",
    "plt.ylabel('Primary Call Reason')\n",
    "plt.show()\n"
   ]
  },
  {
   "cell_type": "code",
   "execution_count": 20,
   "id": "382906cb",
   "metadata": {},
   "outputs": [
    {
     "data": {
      "image/png": "[encoded data removed]",
      "text/plain": [
       "<Figure size 720x432 with 1 Axes>"
      ]
     },
     "metadata": {
      "needs_background": "light"
     },
     "output_type": "display_data"
    }
   ],
   "source": [
    "# Merge df_calls with df_sentiment to get sentiment data\n",
    "df_calls = df_calls.merge(df_sentiment, on='call_id', how='left')\n",
    "\n",
    "\n",
    "plt.figure(figsize=(10, 6))\n",
    "sns.scatterplot(x='average_sentiment', y='AHT', data=df_calls)\n",
    "plt.title('AHT vs. Average Sentiment')\n",
    "plt.xlabel('Average Sentiment')\n",
    "plt.ylabel('Average Handle Time (minutes)')\n",
    "plt.axhline(y=df_calls['AHT'].mean(), color='r', linestyle='--', label='Mean AHT')\n",
    "plt.legend()\n",
    "plt.show()\n"
   ]
  },
  {
   "cell_type": "code",
   "execution_count": 21,
   "id": "972f69ef",
   "metadata": {},
   "outputs": [
    {
     "data": {
      "text/html": [
       "<div>\n",
       "<style scoped>\n",
       "    .dataframe tbody tr th:only-of-type {\n",
       "        vertical-align: middle;\n",
       "    }\n",
       "\n",
       "    .dataframe tbody tr th {\n",
       "        vertical-align: top;\n",
       "    }\n",
       "\n",
       "    .dataframe thead th {\n",
       "        text-align: right;\n",
       "    }\n",
       "</style>\n",
       "<table border=\"1\" class=\"dataframe\">\n",
       "  <thead>\n",
       "    <tr style=\"text-align: right;\">\n",
       "      <th></th>\n",
       "      <th>call_id</th>\n",
       "      <th>customer_id</th>\n",
       "      <th>agent_id_x</th>\n",
       "      <th>call_start_datetime</th>\n",
       "      <th>agent_assigned_datetime</th>\n",
       "      <th>call_end_datetime</th>\n",
       "      <th>call_transcript</th>\n",
       "      <th>AHT</th>\n",
       "      <th>primary_call_reason</th>\n",
       "      <th>agent_id_y</th>\n",
       "      <th>agent_tone</th>\n",
       "      <th>customer_tone</th>\n",
       "      <th>average_sentiment</th>\n",
       "      <th>silence_percent_average</th>\n",
       "      <th>AST</th>\n",
       "    </tr>\n",
       "  </thead>\n",
       "  <tbody>\n",
       "    <tr>\n",
       "      <th>0</th>\n",
       "      <td>4667960400</td>\n",
       "      <td>2033123310</td>\n",
       "      <td>963118</td>\n",
       "      <td>2024-07-31 23:56:00</td>\n",
       "      <td>2024-08-01 00:03:00</td>\n",
       "      <td>2024-08-01 00:34:00</td>\n",
       "      <td>Agent: Thank you for calling United Airlines c...</td>\n",
       "      <td>38.0</td>\n",
       "      <td>voluntary cancel</td>\n",
       "      <td>963118.0</td>\n",
       "      <td>neutral</td>\n",
       "      <td>angry</td>\n",
       "      <td>-0.04</td>\n",
       "      <td>0.39</td>\n",
       "      <td>7.0</td>\n",
       "    </tr>\n",
       "    <tr>\n",
       "      <th>1</th>\n",
       "      <td>1122072124</td>\n",
       "      <td>8186702651</td>\n",
       "      <td>519057</td>\n",
       "      <td>2024-08-01 00:03:00</td>\n",
       "      <td>2024-08-01 00:06:00</td>\n",
       "      <td>2024-08-01 00:18:00</td>\n",
       "      <td>Agent: Thank you for calling United Airlines, ...</td>\n",
       "      <td>15.0</td>\n",
       "      <td>booking</td>\n",
       "      <td>519057.0</td>\n",
       "      <td>calm</td>\n",
       "      <td>neutral</td>\n",
       "      <td>0.02</td>\n",
       "      <td>0.35</td>\n",
       "      <td>3.0</td>\n",
       "    </tr>\n",
       "    <tr>\n",
       "      <th>2</th>\n",
       "      <td>6834291559</td>\n",
       "      <td>2416856629</td>\n",
       "      <td>158319</td>\n",
       "      <td>2024-07-31 23:59:00</td>\n",
       "      <td>2024-08-01 00:07:00</td>\n",
       "      <td>2024-08-01 00:26:00</td>\n",
       "      <td>Agent: Thank you for calling United Airlines c...</td>\n",
       "      <td>27.0</td>\n",
       "      <td>irrops</td>\n",
       "      <td>158319.0</td>\n",
       "      <td>neutral</td>\n",
       "      <td>polite</td>\n",
       "      <td>-0.13</td>\n",
       "      <td>0.32</td>\n",
       "      <td>8.0</td>\n",
       "    </tr>\n",
       "    <tr>\n",
       "      <th>3</th>\n",
       "      <td>2266439882</td>\n",
       "      <td>1154544516</td>\n",
       "      <td>488324</td>\n",
       "      <td>2024-08-01 00:05:00</td>\n",
       "      <td>2024-08-01 00:10:00</td>\n",
       "      <td>2024-08-01 00:17:00</td>\n",
       "      <td>Agent: Thank you for calling United Airlines c...</td>\n",
       "      <td>12.0</td>\n",
       "      <td>upgrade</td>\n",
       "      <td>488324.0</td>\n",
       "      <td>neutral</td>\n",
       "      <td>frustrated</td>\n",
       "      <td>-0.20</td>\n",
       "      <td>0.20</td>\n",
       "      <td>5.0</td>\n",
       "    </tr>\n",
       "    <tr>\n",
       "      <th>4</th>\n",
       "      <td>1211603231</td>\n",
       "      <td>5214456437</td>\n",
       "      <td>721730</td>\n",
       "      <td>2024-08-01 00:04:00</td>\n",
       "      <td>2024-08-01 00:14:00</td>\n",
       "      <td>2024-08-01 00:23:00</td>\n",
       "      <td>Agent: Thank you for calling United Airlines c...</td>\n",
       "      <td>19.0</td>\n",
       "      <td>seating</td>\n",
       "      <td>721730.0</td>\n",
       "      <td>neutral</td>\n",
       "      <td>polite</td>\n",
       "      <td>-0.05</td>\n",
       "      <td>0.35</td>\n",
       "      <td>10.0</td>\n",
       "    </tr>\n",
       "  </tbody>\n",
       "</table>\n",
       "</div>"
      ],
      "text/plain": [
       "      call_id  customer_id  agent_id_x call_start_datetime  \\\n",
       "0  4667960400   2033123310      963118 2024-07-31 23:56:00   \n",
       "1  1122072124   8186702651      519057 2024-08-01 00:03:00   \n",
       "2  6834291559   2416856629      158319 2024-07-31 23:59:00   \n",
       "3  2266439882   1154544516      488324 2024-08-01 00:05:00   \n",
       "4  1211603231   5214456437      721730 2024-08-01 00:04:00   \n",
       "\n",
       "  agent_assigned_datetime   call_end_datetime  \\\n",
       "0     2024-08-01 00:03:00 2024-08-01 00:34:00   \n",
       "1     2024-08-01 00:06:00 2024-08-01 00:18:00   \n",
       "2     2024-08-01 00:07:00 2024-08-01 00:26:00   \n",
       "3     2024-08-01 00:10:00 2024-08-01 00:17:00   \n",
       "4     2024-08-01 00:14:00 2024-08-01 00:23:00   \n",
       "\n",
       "                                     call_transcript   AHT  \\\n",
       "0  Agent: Thank you for calling United Airlines c...  38.0   \n",
       "1  Agent: Thank you for calling United Airlines, ...  15.0   \n",
       "2  Agent: Thank you for calling United Airlines c...  27.0   \n",
       "3  Agent: Thank you for calling United Airlines c...  12.0   \n",
       "4  Agent: Thank you for calling United Airlines c...  19.0   \n",
       "\n",
       "  primary_call_reason  agent_id_y agent_tone customer_tone  average_sentiment  \\\n",
       "0    voluntary cancel    963118.0    neutral         angry              -0.04   \n",
       "1             booking    519057.0       calm       neutral               0.02   \n",
       "2              irrops    158319.0    neutral        polite              -0.13   \n",
       "3             upgrade    488324.0    neutral    frustrated              -0.20   \n",
       "4             seating    721730.0    neutral        polite              -0.05   \n",
       "\n",
       "   silence_percent_average   AST  \n",
       "0                     0.39   7.0  \n",
       "1                     0.35   3.0  \n",
       "2                     0.32   8.0  \n",
       "3                     0.20   5.0  \n",
       "4                     0.35  10.0  "
      ]
     },
     "execution_count": 21,
     "metadata": {},
     "output_type": "execute_result"
    }
   ],
   "source": [
    "# Calculate AST for each call (time between call starting and agent answering)\n",
    "df_calls['AST'] = (df_calls['agent_assigned_datetime'] - df_calls['call_start_datetime']).dt.total_seconds() / 60  # AST in minutes\n",
    "df_calls.head()"
   ]
  },
  {
   "cell_type": "code",
   "execution_count": 22,
   "id": "b7239bd4",
   "metadata": {},
   "outputs": [
    {
     "name": "stdout",
     "output_type": "stream",
     "text": [
      "  call_start_datetime   call_date  call_hour\n",
      "0 2024-07-31 23:56:00  2024-07-31         23\n",
      "1 2024-08-01 00:03:00  2024-08-01          0\n",
      "2 2024-07-31 23:59:00  2024-07-31         23\n",
      "3 2024-08-01 00:05:00  2024-08-01          0\n",
      "4 2024-08-01 00:04:00  2024-08-01          0\n",
      "    call_date  call_hour  call_count\n",
      "0  2024-07-31         23           2\n",
      "1  2024-08-01          0          21\n",
      "2  2024-08-01          1          21\n",
      "3  2024-08-01          2          18\n",
      "4  2024-08-01          3          17\n",
      "      call_date  call_hour  call_count\n",
      "12   2024-08-01         11         112\n",
      "14   2024-08-01         13         105\n",
      "35   2024-08-02         10         106\n",
      "57   2024-08-03          8         323\n",
      "58   2024-08-03          9         346\n",
      "..          ...        ...         ...\n",
      "735  2024-08-31         14         336\n",
      "736  2024-08-31         15         338\n",
      "737  2024-08-31         16         373\n",
      "738  2024-08-31         17         349\n",
      "739  2024-08-31         18         295\n",
      "\n",
      "[149 rows x 3 columns]\n"
     ]
    }
   ],
   "source": [
    "\n",
    "#Calculating the hig volume periods\n",
    "\n",
    "\n",
    "\n",
    "df_calls['call_start_datetime'] = pd.to_datetime(df_calls['call_start_datetime'])\n",
    "\n",
    "\n",
    "df_calls['call_date'] = df_calls['call_start_datetime'].dt.date\n",
    "df_calls['call_hour'] = df_calls['call_start_datetime'].dt.hour\n",
    "\n",
    "\n",
    "print(df_calls[['call_start_datetime', 'call_date', 'call_hour']].head())\n",
    "\n",
    "\n",
    "call_volume = df_calls.groupby(['call_date', 'call_hour'])['call_id'].count().reset_index()\n",
    "call_volume = call_volume.rename(columns={'call_id': 'call_count'})\n",
    "\n",
    "\n",
    "print(call_volume.head())\n",
    "\n",
    "\n",
    "\n",
    "high_volume_threshold = call_volume['call_count'].quantile(0.80)  # Top 20%\n",
    "\n",
    "\n",
    "high_volume_periods = call_volume[call_volume['call_count'] > high_volume_threshold]\n",
    "\n",
    "\n",
    "print(high_volume_periods)\n"
   ]
  },
  {
   "cell_type": "code",
   "execution_count": 23,
   "id": "8775e4e2",
   "metadata": {},
   "outputs": [],
   "source": [
    "df_calls = df_calls.merge(high_volume_periods, on=['call_date', 'call_hour'], how='left', indicator='high_volume')\n",
    "df_calls['high_volume'] = df_calls['high_volume'].apply(lambda x: 'Yes' if x == 'both' else 'No')"
   ]
  },
  {
   "cell_type": "code",
   "execution_count": 24,
   "id": "984ce710",
   "metadata": {},
   "outputs": [
    {
     "data": {
      "image/png": "[encoded data removed]",
      "text/plain": [
       "<Figure size 576x432 with 2 Axes>"
      ]
     },
     "metadata": {
      "needs_background": "light"
     },
     "output_type": "display_data"
    }
   ],
   "source": [
    "# Correlation matrix for relevant variables\n",
    "\n",
    "correlation_matrix = df_calls[['AHT', 'AST', 'call_count']].corr()\n",
    "plt.figure(figsize=(8, 6))\n",
    "sns.heatmap(correlation_matrix, annot=True, cmap='coolwarm', fmt=\".5f\", linewidths=0.5)\n",
    "\n",
    "plt.title('Correlation Matrix of Factors Affecting AHT', fontsize=16)\n",
    "plt.xticks(rotation=45)  \n",
    "plt.yticks(rotation=0)    \n",
    "\n",
    "\n",
    "plt.show()\n",
    "\n"
   ]
  },
  {
   "cell_type": "code",
   "execution_count": 25,
   "id": "72d63539",
   "metadata": {},
   "outputs": [
    {
     "data": {
      "image/png": "[encoded data removed]",
      "text/plain": [
       "<Figure size 864x432 with 1 Axes>"
      ]
     },
     "metadata": {
      "needs_background": "light"
     },
     "output_type": "display_data"
    }
   ],
   "source": [
    "# AHT by primary call reason with high volume\n",
    "aht_by_reason = df_calls[df_calls['high_volume'] == 'Yes'].groupby('primary_call_reason')['AHT'].mean().reset_index()\n",
    "aht_by_reason = aht_by_reason.sort_values(by='AHT', ascending=False)\n",
    "\n",
    "plt.figure(figsize=(12, 6))\n",
    "sns.barplot(x='AHT', y='primary_call_reason', data=aht_by_reason.head(20))  # Display top 20 reasons\n",
    "plt.title('Average Handle Time (AHT) by Call Reason')\n",
    "plt.xlabel('Average Handle Time (minutes)')\n",
    "plt.ylabel('Primary Call Reason')\n",
    "plt.show()"
   ]
  },
  {
   "cell_type": "code",
   "execution_count": 26,
   "id": "261bd224",
   "metadata": {
    "scrolled": true
   },
   "outputs": [
    {
     "data": {
      "image/png": "[encoded data removed]",
      "text/plain": [
       "<Figure size 864x432 with 1 Axes>"
      ]
     },
     "metadata": {
      "needs_background": "light"
     },
     "output_type": "display_data"
    }
   ],
   "source": [
    "# AHT by primary call reason with high volume\n",
    "aht_by_reason = df_calls[df_calls['high_volume'] == 'Yes'].groupby('primary_call_reason')['AST'].mean().reset_index()\n",
    "aht_by_reason = aht_by_reason.sort_values(by='AST', ascending=False)\n",
    "\n",
    "plt.figure(figsize=(12, 6))\n",
    "sns.barplot(x='AST', y='primary_call_reason', data=aht_by_reason.head(20))  # Display top 20 reasons\n",
    "plt.title('AST by Call Reason')\n",
    "plt.xlabel('AST (minutes)')\n",
    "plt.ylabel('Primary Call Reason')\n",
    "plt.show()"
   ]
  },
  {
   "cell_type": "code",
   "execution_count": 27,
   "id": "d4c2a32f",
   "metadata": {},
   "outputs": [
    {
     "data": {
      "image/png": "[encoded data removed]",
      "text/plain": [
       "<Figure size 576x360 with 1 Axes>"
      ]
     },
     "metadata": {
      "needs_background": "light"
     },
     "output_type": "display_data"
    }
   ],
   "source": [
    "aht_by_sentiment = df_calls[df_calls['high_volume'] == 'Yes'].groupby('average_sentiment')['AHT'].mean().reset_index()\n",
    "\n",
    "plt.figure(figsize=(8, 5))\n",
    "\n",
    "\n",
    "sns.scatterplot(x='average_sentiment', y='AHT', data=aht_by_sentiment, palette='plasma')\n",
    "\n",
    "\n",
    "plt.title('Average Handle Time (AHT) by Customer Sentiment (High Volume Calls)')\n",
    "plt.xlabel('Average Sentiment Score')\n",
    "plt.ylabel('Average AHT (minutes)')\n",
    "\n",
    "\n",
    "plt.show()\n"
   ]
  },
  {
   "cell_type": "code",
   "execution_count": 28,
   "id": "65397e50",
   "metadata": {},
   "outputs": [
    {
     "data": {
      "image/png": "[encoded data removed]",
      "text/plain": [
       "<Figure size 576x360 with 1 Axes>"
      ]
     },
     "metadata": {
      "needs_background": "light"
     },
     "output_type": "display_data"
    }
   ],
   "source": [
    "# Create a bar plot for AST by customer sentiment\n",
    "aht_by_sentiment = df_calls[df_calls['high_volume'] == 'Yes'].groupby('average_sentiment')['AST'].mean().reset_index()\n",
    "\n",
    "\n",
    "plt.figure(figsize=(8, 5))\n",
    "\n",
    "\n",
    "sns.scatterplot(x='average_sentiment', y='AST', data=aht_by_sentiment)\n",
    "\n",
    "\n",
    "plt.title('AST) by Customer Sentiment (High Volume Calls)')\n",
    "plt.xlabel('Average Sentiment Score')\n",
    "plt.ylabel('Average AST (minutes)')\n",
    "\n",
    "\n",
    "plt.show()\n"
   ]
  },
  {
   "cell_type": "code",
   "execution_count": 29,
   "id": "5ef944c4",
   "metadata": {},
   "outputs": [
    {
     "name": "stdout",
     "output_type": "stream",
     "text": [
      "AHT for Most Frequent Reason (irrops): 19.09 minutes\n",
      "AHT for Least Frequent Reason (unaccompanied minor): 20.12 minutes\n",
      "Percentage Difference: -5.16%\n"
     ]
    }
   ],
   "source": [
    "# Most and Least frequent call reasons\n",
    "most_frequent_reason = df_calls['primary_call_reason'].mode()[0]\n",
    "least_frequent_reason = df_calls['primary_call_reason'].value_counts().idxmin()\n",
    "\n",
    "# AHT for most and least frequent reasons\n",
    "aht_most_frequent = df_calls[df_calls['primary_call_reason'] == most_frequent_reason]['AHT'].mean()\n",
    "aht_least_frequent = df_calls[df_calls['primary_call_reason'] == least_frequent_reason]['AHT'].mean()\n",
    "\n",
    "# Percentage difference\n",
    "percentage_difference = ((aht_most_frequent - aht_least_frequent) / aht_least_frequent) * 100\n",
    "\n",
    "print(f\"AHT for Most Frequent Reason ({most_frequent_reason}): {aht_most_frequent:.2f} minutes\")\n",
    "print(f\"AHT for Least Frequent Reason ({least_frequent_reason}): {aht_least_frequent:.2f} minutes\")\n",
    "print(f\"Percentage Difference: {percentage_difference:.2f}%\")\n"
   ]
  },
  {
   "cell_type": "code",
   "execution_count": null,
   "id": "d5505862",
   "metadata": {},
   "outputs": [],
   "source": []
  },
  {
   "cell_type": "code",
   "execution_count": null,
   "id": "cb40bbc6",
   "metadata": {},
   "outputs": [],
   "source": []
  }
 ],
 "metadata": {
  "kernelspec": {
   "display_name": "Python 3 (ipykernel)",
   "language": "python",
   "name": "python3"
  },
  "language_info": {
   "codemirror_mode": {
    "name": "ipython",
    "version": 3
   },
   "file_extension": ".py",
   "mimetype": "text/x-python",
   "name": "python",
   "nbconvert_exporter": "python",
   "pygments_lexer": "ipython3",
   "version": "3.9.12"
  }
 },
 "nbformat": 4,
 "nbformat_minor": 5
}
